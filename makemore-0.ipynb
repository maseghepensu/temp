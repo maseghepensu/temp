{
  "nbformat": 4,
  "nbformat_minor": 0,
  "metadata": {
    "colab": {
      "provenance": [],
      "authorship_tag": "ABX9TyOoyiHAreOyVIjNfx67QWqk",
      "include_colab_link": true
    },
    "kernelspec": {
      "name": "python3",
      "display_name": "Python 3"
    },
    "language_info": {
      "name": "python"
    }
  },
  "cells": [
    {
      "cell_type": "markdown",
      "metadata": {
        "id": "view-in-github",
        "colab_type": "text"
      },
      "source": [
        "<a href=\"https://colab.research.google.com/github/maseghepensu/temp/blob/master/makemore-0.ipynb\" target=\"_parent\"><img src=\"https://colab.research.google.com/assets/colab-badge.svg\" alt=\"Open In Colab\"/></a>"
      ]
    },
    {
      "cell_type": "code",
      "execution_count": 1,
      "metadata": {
        "colab": {
          "base_uri": "https://localhost:8080/"
        },
        "id": "5doYnyqbKeUp",
        "outputId": "060bb4d0-edc6-47d6-e69e-6f95efce0b95"
      },
      "outputs": [
        {
          "output_type": "stream",
          "name": "stdout",
          "text": [
            "32033\n"
          ]
        }
      ],
      "source": [
        "# import pytorch\n",
        "import requests\n",
        "words = []\n",
        "r = requests.get(r'https://raw.githubusercontent.com/karpathy/makemore/master/names.txt')\n",
        "if r.status_code == 200:\n",
        "   words = r.text.splitlines()\n",
        "print(len(words))   \n"
      ]
    }
  ]
}